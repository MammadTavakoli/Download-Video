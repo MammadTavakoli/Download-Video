{
  "cells": [
    {
      "cell_type": "markdown",
      "metadata": {
        "id": "view-in-github",
        "colab_type": "text"
      },
      "source": [
        "<a href=\"https://colab.research.google.com/github/MammadTavakoli/Download-Video/blob/master/Youtubedl_yt_dlp.ipynb\" target=\"_parent\"><img src=\"https://colab.research.google.com/assets/colab-badge.svg\" alt=\"Open In Colab\"/></a>"
      ]
    },
    {
      "cell_type": "markdown",
      "metadata": {
        "id": "HH8FihF-lRFx"
      },
      "source": [
        "# Install Pakages"
      ]
    },
    {
      "cell_type": "code",
      "execution_count": null,
      "metadata": {
        "id": "4MnPr2qaGl6i"
      },
      "outputs": [],
      "source": [
        "# !pip install yt_dlp\n",
        "# !pip install pysrt\n",
        "!pip install webvtt-py\n",
        "!pip install --upgrade  git+https://github.com/yt-dlp/yt-dlp.git\n",
        "!pip install --upgrade git+https://github.com/byroot/pysrt.git\n",
        "!pip install --upgrade git+https://github.com/jsonzilla/vtt_to_srt3.git"
      ]
    },
    {
      "cell_type": "markdown",
      "metadata": {
        "id": "0tqctZOelgWi"
      },
      "source": [
        "# Import Pakages"
      ]
    },
    {
      "cell_type": "markdown",
      "source": [
        "# Download Youtube File"
      ],
      "metadata": {
        "id": "g8HFcjEGjVAe"
      }
    },
    {
      "cell_type": "code",
      "execution_count": null,
      "metadata": {
        "id": "SfZI1Ri6Weub"
      },
      "outputs": [],
      "source": [
        "from vtt_to_srt.vtt_to_srt import ConvertDirectories\n",
        "from google.colab import drive\n",
        "import yt_dlp\n",
        "import os\n",
        "import glob\n",
        "import re\n",
        "import pysrt"
      ]
    },
    {
      "cell_type": "markdown",
      "metadata": {
        "id": "Yk9oxNtylj5R"
      },
      "source": [
        "## Mount Drive"
      ]
    },
    {
      "cell_type": "code",
      "execution_count": null,
      "metadata": {
        "id": "E2pxU14xySw5"
      },
      "outputs": [],
      "source": [
        "drive.mount('/content/drive/', force_remount=True)"
      ]
    },
    {
      "cell_type": "markdown",
      "source": [
        "## Add URL To Downloaded Urls List Function"
      ],
      "metadata": {
        "id": "8Q-PZsa_jlU3"
      }
    },
    {
      "cell_type": "code",
      "execution_count": null,
      "metadata": {
        "id": "LXfMLvkKaN86"
      },
      "outputs": [],
      "source": [
        "def url_list_add(url):\n",
        "    # Define the path where the file is located\n",
        "    path = \"//content//drive//MyDrive//YouTube//\"\n",
        "\n",
        "    # Create the folder for the downloaded videos\n",
        "    if not os.path.exists(path):\n",
        "        os.makedirs(path)\n",
        "\n",
        "    # Create the complete file path by joining the path and file name\n",
        "    file_path = os.path.join(path, \"_urls.txt\")\n",
        "\n",
        "    # Check if the file exists\n",
        "    if not os.path.isfile(file_path):\n",
        "        # If the file doesn't exist, create an empty file\n",
        "        open(file_path, \"w\").close()\n",
        "\n",
        "    # Open the file in read mode\n",
        "    with open(file_path, 'r', encoding=\"utf-8\") as file:\n",
        "        # Read the contents of the file\n",
        "        content = file.read()\n",
        "\n",
        "        # Check if the url already exists in the file\n",
        "        if url in content:\n",
        "            print(f'{url} already exists')\n",
        "            return False\n",
        "\n",
        "    # Open the file in append mode\n",
        "    with open(file_path, \"a\", encoding=\"utf-8\") as file:\n",
        "        # Write the url to the file\n",
        "        file.write(url + \"\\n\")\n",
        "        print(f'{url} added')\n",
        "\n",
        "    return True"
      ]
    },
    {
      "cell_type": "markdown",
      "source": [
        "## Create Video Folder Function"
      ],
      "metadata": {
        "id": "pr3CCsyPjx5Z"
      }
    },
    {
      "cell_type": "code",
      "execution_count": null,
      "metadata": {
        "id": "0-zsGaCfzREV"
      },
      "outputs": [],
      "source": [
        "def create_folder(url, base_path):\n",
        "    try:\n",
        "        with yt_dlp.YoutubeDL({\"ignoreerrors\": True, \"quiet\": True}) as ydl:\n",
        "            playlist_dict = ydl.extract_info(url, download=False)\n",
        "            print(\"\\n\", playlist_dict[\"title\"], \"\\n\")\n",
        "\n",
        "            new_folder = playlist_dict[\"title\"] + \"_\" + playlist_dict[\"uploader\"]\n",
        "            folder_name = re.sub(r'[-\\s/\\\\]+', '-', new_folder)\n",
        "            path = os.path.join(base_path, folder_name)\n",
        "\n",
        "            # Create the folder for the downloaded videos\n",
        "            if not os.path.exists(path):\n",
        "                os.makedirs(path)\n",
        "\n",
        "            # Change the current working directory to the new folder\n",
        "            os.chdir(path)\n",
        "            print(os.getcwd())\n",
        "\n",
        "            # Save the URL in a text file\n",
        "            url_file_path = os.path.join(path, \"_url.txt\")\n",
        "            with open(url_file_path, \"w\", encoding=\"utf-8\") as f:\n",
        "                f.write(url)\n",
        "\n",
        "            print(\"Folder created successfully.\")\n",
        "    except yt_dlp.DownloadError as e:\n",
        "        print(\"Error downloading video info:\", str(e))\n",
        "    except Exception as e:\n",
        "        print(\"Error creating folder:\", str(e))\n"
      ]
    },
    {
      "cell_type": "markdown",
      "source": [
        "## Download Video Function"
      ],
      "metadata": {
        "id": "v3RkmBrRkFdN"
      }
    },
    {
      "cell_type": "code",
      "source": [
        "def download_video(URL, base_path=\"//content//drive//MyDrive//YouTube//Download_video//\",\n",
        "                 playlist_start=1, skip_download=False,\n",
        "                 max_resolution=1080):\n",
        "   # Create the folder for the downloaded videos\n",
        "   create_folder(url, base_path)\n",
        "\n",
        "   # Set default output filename format\n",
        "   youtube_dl_options = {\n",
        "       \"format\": f\"(bestvideo[height<={max_resolution}]+bestaudio/best)\",\n",
        "       \"outtmpl\": \"%(autonumber)03d_%(title)s.%(ext)s\", # Use autonumbering and title as filename\n",
        "       \"autonumber_start\": playlist_start, # Start numbering from specified value\n",
        "       \"playliststart\": playlist_start, # Download videos starting from specified index\n",
        "       \"restrictfilenames\": False, # Allow special characters in filenames\n",
        "       \"nooverwrites\": True, # Prevent overwriting existing files\n",
        "       \"writedescription\": True, # Download video description\n",
        "       \"writeinfojson\": False, # Download video metadata as JSON\n",
        "       \"writeannotations\": True, # Download annotations (comments)\n",
        "       \"writethumbnail\": False, # Download thumbnails\n",
        "       \"writesubtitles\": True, # Download subtitles\n",
        "       \"writeautomaticsub\": True,\n",
        "       \"subtitleslangs\": [\"en.*\"], # Download English subtitles\n",
        "       \"convertsubs\": 'srt',\n",
        "       \"subtitlesformat\": \"str/best\", # Subtitle format\n",
        "       \"skip_download\": skip_download, # Skip actual download if set to True\n",
        "   }\n",
        "\n",
        "   # Try downloading the video while handling errors\n",
        "   is_downloaded = False\n",
        "   while not is_downloaded:\n",
        "       try:\n",
        "           with yt_dlp.YoutubeDL(youtube_dl_options) as ydl:\n",
        "               ydl.cache.remove() # Clear cached information\n",
        "               info_dict = ydl.extract_info(URL, download=False) # Get video metadata\n",
        "               ydl.prepare_filename(info_dict) # Prepare filename based on metadata\n",
        "               ydl.download([URL]) # Download the video\n",
        "               is_downloaded = True\n",
        "               return True\n",
        "       except yt_dlp.DownloadError as e:\n",
        "           print(\"Download error:\", str(e))\n",
        "       except Exception as e:\n",
        "           print(\"Unexpected error:\", str(e))"
      ],
      "metadata": {
        "id": "GbRCZDQvFNk0"
      },
      "execution_count": null,
      "outputs": []
    },
    {
      "cell_type": "markdown",
      "source": [
        "## Urls List"
      ],
      "metadata": {
        "id": "se-C-hjwkOil"
      }
    },
    {
      "cell_type": "code",
      "execution_count": null,
      "metadata": {
        "id": "kbMHEMOZSZ_Z"
      },
      "outputs": [],
      "source": [
        "# The URLS list holds the YouTube video or playlist URLs that you want to download.\n",
        "# Each URL in the list can be either a string (representing a single video URL) or a dictionary (representing a playlist).\n",
        "# If it's a dictionary, the dictionary key is the URL of the playlist, and the dictionary value is the index of the video in the playlist where downloading should start.\n",
        "# If the playlist URL is specified as a string, downloading will start from the first video in the playlist.\n",
        "# This script allows you to download videos from a YouTube playlist to your Google Drive and then to your PC, with the ability to resume the download from the last video if needed.\n",
        "\n",
        "# Example of the URLS list:\n",
        "# URLS = [\n",
        "#     {\"https://www.youtube.com/playlist?list=1234\": 3},  # Download from the 3rd video of the playlist\n",
        "#     {\"https://www.youtube.com/playlist?list=1234\": 1},  # Download from the first video of the playlist (all videos)\n",
        "#     \"https://www.youtube.com/playlist?list=1234\",      # Download from the first video of the playlist (all videos)\n",
        "#     \"https://www.youtube.com/watch?v=1234\"              # Download a single video\n",
        "# ]\n",
        "\n",
        "URLS = [\n",
        "]"
      ]
    },
    {
      "cell_type": "markdown",
      "source": [
        "## Download Video"
      ],
      "metadata": {
        "id": "QgFhSVl5kV1p"
      }
    },
    {
      "cell_type": "code",
      "execution_count": null,
      "metadata": {
        "id": "Y7iL0xjRW3NO"
      },
      "outputs": [],
      "source": [
        "base_path = \"//content//drive//MyDrive//YouTube//Download_video//\"\n",
        "\n",
        "for URL in URLS:\n",
        "    if isinstance(URL, dict) and len(URL) == 1:\n",
        "        url = list(URL.keys())[0]\n",
        "        playlist_start = list(URL.values())[0]\n",
        "    elif isinstance(URL, str):\n",
        "        url = URL\n",
        "        playlist_start = 1\n",
        "    else:\n",
        "        print('There are some errors in URLS')\n",
        "        break\n",
        "\n",
        "    if url_list_add(url):\n",
        "        print(url)\n",
        "        print('-' * 50, '\\n')\n",
        "\n",
        "        download_video(url, base_path, playlist_start=playlist_start, skip_download=False, max_resolution=1080)"
      ]
    },
    {
      "cell_type": "markdown",
      "source": [
        "# Convert subtitle to text"
      ],
      "metadata": {
        "id": "QxEEYQ6dWq90"
      }
    },
    {
      "cell_type": "markdown",
      "source": [
        "## convert vtt to srt format"
      ],
      "metadata": {
        "id": "FLZQMzvEW7ow"
      }
    },
    {
      "cell_type": "code",
      "source": [
        "def vtt_to_srt(filepath):\n",
        "    for root, dirs, files in os.walk(filepath):\n",
        "        recursive = False\n",
        "        convert_file = ConvertDirectories(root, recursive, \"utf-8\")\n",
        "        convert_file.convert()"
      ],
      "metadata": {
        "id": "7aM9F7pPNjgi"
      },
      "execution_count": null,
      "outputs": []
    },
    {
      "cell_type": "markdown",
      "source": [
        "## Convert srt to text function"
      ],
      "metadata": {
        "id": "hKRIgdHJXRkt"
      }
    },
    {
      "cell_type": "code",
      "source": [
        "def str_to_subtitle_to_txt(root_path, appendText='*******'):\n",
        "\n",
        "    # Convert a single .srt file to .txt\n",
        "    def process_file(pathname):\n",
        "        try:\n",
        "            subs = pysrt.open(pathname)\n",
        "            texts = ''\n",
        "            for sub in subs:\n",
        "                texts += sub.text.replace('\\n', ' ') + appendText\n",
        "\n",
        "            # Construct the text file path\n",
        "            basename_without_ext = os.path.splitext(os.path.basename(pathname))[0]\n",
        "            dirname = os.path.dirname(pathname)\n",
        "            text_filepath = os.path.join(dirname, basename_without_ext + '.txt')\n",
        "\n",
        "            # Write to the text file and clean up the text\n",
        "            with open(text_filepath, 'w', encoding='utf-8') as text_file:\n",
        "                texts = texts.replace('.' + appendText, '.\\n\\n')\n",
        "                texts = texts.replace('?' + appendText, '?\\n\\n')\n",
        "                texts = texts.replace(appendText, ' ')\n",
        "                text_file.write(texts)\n",
        "\n",
        "        except Exception as e:\n",
        "            print(f\"Failed to process file: {pathname}\")\n",
        "            print(f\"Error: {e}\")\n",
        "\n",
        "    vtt_to_srt(base_path)\n",
        "\n",
        "    # Walk through root_path and process all .srt files\n",
        "    for dirpath, dirnames, files in os.walk(root_path):\n",
        "        for f in files:\n",
        "            if f.lower().endswith(\".srt\"):\n",
        "                process_file(os.path.join(dirpath, f))"
      ],
      "metadata": {
        "id": "FhiNm-OvhCHD"
      },
      "execution_count": null,
      "outputs": []
    },
    {
      "cell_type": "markdown",
      "source": [
        "## Convert srt to text"
      ],
      "metadata": {
        "id": "OMgJw_QRioEe"
      }
    },
    {
      "cell_type": "code",
      "source": [
        "base_path = \"//content//drive//MyDrive//YouTube//Download_video//\"\n",
        "str_to_subtitle_to_txt(base_path)"
      ],
      "metadata": {
        "id": "TTBtOJWtihZF"
      },
      "execution_count": null,
      "outputs": []
    },
    {
      "cell_type": "code",
      "source": [],
      "metadata": {
        "id": "wtY9R-D1WIku"
      },
      "execution_count": null,
      "outputs": []
    }
  ],
  "metadata": {
    "colab": {
      "provenance": [],
      "include_colab_link": true
    },
    "kernelspec": {
      "display_name": "Python 3",
      "name": "python3"
    }
  },
  "nbformat": 4,
  "nbformat_minor": 0
}