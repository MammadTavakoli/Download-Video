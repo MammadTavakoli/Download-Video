{
  "cells": [
    {
      "cell_type": "markdown",
      "metadata": {
        "id": "view-in-github",
        "colab_type": "text"
      },
      "source": [
        "<a href=\"https://colab.research.google.com/github/MammadTavakoli/Download-Video/blob/main/Youtube_dl_pytube.ipynb\" target=\"_parent\"><img src=\"https://colab.research.google.com/assets/colab-badge.svg\" alt=\"Open In Colab\"/></a>"
      ]
    },
    {
      "cell_type": "markdown",
      "metadata": {
        "id": "HH8FihF-lRFx"
      },
      "source": [
        "# Install Pakages"
      ]
    },
    {
      "cell_type": "code",
      "execution_count": 7,
      "metadata": {
        "colab": {
          "base_uri": "https://localhost:8080/"
        },
        "id": "4MnPr2qaGl6i",
        "outputId": "09533051-0fab-4d46-cd8a-514c1ad34080"
      },
      "outputs": [
        {
          "output_type": "stream",
          "name": "stdout",
          "text": [
            "Requirement already satisfied: pytube in /usr/local/lib/python3.10/dist-packages (15.0.0)\n",
            "Requirement already satisfied: youtube-transcript-api in /usr/local/lib/python3.10/dist-packages (0.6.2)\n",
            "Requirement already satisfied: requests in /usr/local/lib/python3.10/dist-packages (from youtube-transcript-api) (2.31.0)\n",
            "Requirement already satisfied: charset-normalizer<4,>=2 in /usr/local/lib/python3.10/dist-packages (from requests->youtube-transcript-api) (3.3.2)\n",
            "Requirement already satisfied: idna<4,>=2.5 in /usr/local/lib/python3.10/dist-packages (from requests->youtube-transcript-api) (3.6)\n",
            "Requirement already satisfied: urllib3<3,>=1.21.1 in /usr/local/lib/python3.10/dist-packages (from requests->youtube-transcript-api) (2.0.7)\n",
            "Requirement already satisfied: certifi>=2017.4.17 in /usr/local/lib/python3.10/dist-packages (from requests->youtube-transcript-api) (2024.2.2)\n",
            "Collecting git+https://github.com/byroot/pysrt.git\n",
            "  Cloning https://github.com/byroot/pysrt.git to /tmp/pip-req-build-tefo0jaz\n",
            "  Running command git clone --filter=blob:none --quiet https://github.com/byroot/pysrt.git /tmp/pip-req-build-tefo0jaz\n",
            "  Resolved https://github.com/byroot/pysrt.git to commit 93f52f6d4f70f4e18dc71deeaae0ec1e9100a50f\n",
            "  Preparing metadata (setup.py) ... \u001b[?25l\u001b[?25hdone\n",
            "Requirement already satisfied: chardet in /usr/local/lib/python3.10/dist-packages (from pysrt==1.1.2) (5.2.0)\n",
            "Requirement already satisfied: vtt_to_srt3 in /usr/local/lib/python3.10/dist-packages (0.2.0.1)\n"
          ]
        }
      ],
      "source": [
        "!pip install --upgrade pytube\n",
        "# pip install git+https://github.com/pytube/pytube\n",
        "!pip install youtube-transcript-api\n",
        "!pip install --upgrade git+https://github.com/byroot/pysrt.git\n",
        "!pip install --upgrade vtt_to_srt3"
      ]
    },
    {
      "cell_type": "markdown",
      "metadata": {
        "id": "0tqctZOelgWi"
      },
      "source": [
        "# Import Pakages"
      ]
    },
    {
      "cell_type": "code",
      "execution_count": 8,
      "metadata": {
        "id": "vlmixGIYItm2"
      },
      "outputs": [],
      "source": [
        "from __future__ import unicode_literals"
      ]
    },
    {
      "cell_type": "code",
      "execution_count": 9,
      "metadata": {
        "id": "SfZI1Ri6Weub"
      },
      "outputs": [],
      "source": [
        "import os\n",
        "from google.colab import drive"
      ]
    },
    {
      "cell_type": "code",
      "execution_count": 10,
      "metadata": {
        "id": "Sldtm0XTeTz7"
      },
      "outputs": [],
      "source": [
        "from vtt_to_srt.vtt_to_srt import ConvertDirectories\n",
        "import pysrt\n",
        "from pytube import YouTube, Playlist\n",
        "from youtube_transcript_api import YouTubeTranscriptApi, TranscriptsDisabled\n",
        "from youtube_transcript_api.formatters import SRTFormatter"
      ]
    },
    {
      "cell_type": "code",
      "execution_count": 11,
      "metadata": {
        "id": "uCCQGn2JazE2"
      },
      "outputs": [],
      "source": [
        "import re\n",
        "import math\n",
        "import time\n",
        "import string\n",
        "from typing import Dict, Optional"
      ]
    },
    {
      "cell_type": "markdown",
      "metadata": {
        "id": "Yk9oxNtylj5R"
      },
      "source": [
        "# DOWNLOAD VIDEO"
      ]
    },
    {
      "cell_type": "code",
      "execution_count": 12,
      "metadata": {
        "colab": {
          "base_uri": "https://localhost:8080/"
        },
        "id": "E2pxU14xySw5",
        "outputId": "48288034-9b88-4cf1-d49f-4d377bd3f96a"
      },
      "outputs": [
        {
          "output_type": "stream",
          "name": "stdout",
          "text": [
            "Mounted at /content/drive\n"
          ]
        }
      ],
      "source": [
        "drive.mount('/content/drive', force_remount=True)"
      ]
    },
    {
      "cell_type": "code",
      "execution_count": 13,
      "metadata": {
        "id": "mLDOX4ciP3qW"
      },
      "outputs": [],
      "source": [
        "x = \"۰۱۲۳۴۵۶۷۸۹\"\n",
        "y = \"0123456789\"\n",
        "table_digit = str.maketrans(x, y)\n",
        "table_punctuation = str.maketrans(string.punctuation, '-'*len(string.punctuation))"
      ]
    },
    {
      "cell_type": "code",
      "execution_count": 14,
      "metadata": {
        "id": "LXfMLvkKaN86"
      },
      "outputs": [],
      "source": [
        "def url_list_add(url):\n",
        "    # Define the path where the file is located\n",
        "    path = \"//content//drive//MyDrive//YouTube//\"\n",
        "\n",
        "    # Create the complete file path by joining the path and file name\n",
        "    file_path = os.path.join(path, \"_urls.txt\")\n",
        "\n",
        "    # Check if the file exists\n",
        "    if not os.path.isfile(file_path):\n",
        "        # If the file doesn't exist, create an empty file\n",
        "        open(file_path, \"w\").close()\n",
        "\n",
        "    # Open the file in read mode\n",
        "    with open(file_path, 'r', encoding=\"utf-8\") as file:\n",
        "        # Read the contents of the file\n",
        "        content = file.read()\n",
        "\n",
        "        # Check if the url already exists in the file\n",
        "        if url in content:\n",
        "            print(f'{url} already exists')\n",
        "            return False\n",
        "\n",
        "    # Open the file in append mode\n",
        "    with open(file_path, \"a\", encoding=\"utf-8\") as file:\n",
        "        # Write the url to the file\n",
        "        file.write(url + \"\\n\")\n",
        "        print(f'{url} added')\n",
        "\n",
        "    return True"
      ]
    },
    {
      "cell_type": "code",
      "execution_count": 15,
      "metadata": {
        "id": "0-zsGaCfzREV"
      },
      "outputs": [],
      "source": [
        "def create_folder(url, path):\n",
        "    try:\n",
        "        # Create the folder\n",
        "        os.makedirs(path, exist_ok=True)\n",
        "\n",
        "        # Change the current working directory to the new folder\n",
        "        os.chdir(path)\n",
        "        print(os.getcwd())\n",
        "\n",
        "        # Save the URL in a text file\n",
        "        url_file_path = os.path.join(path, \"_url.txt\")\n",
        "        with open(url_file_path, \"w\", encoding=\"utf-8\") as f:\n",
        "            f.write(url)\n",
        "\n",
        "        print(\"Folder created successfully.\")\n",
        "    except Exception as e:\n",
        "        print(\"Error creating folder:\", str(e))"
      ]
    },
    {
      "cell_type": "code",
      "execution_count": 26,
      "metadata": {
        "id": "KtCW9cLPM1Kk"
      },
      "outputs": [],
      "source": [
        "def download_srt(youtube, filename, target_languages, translated_lang):\n",
        "    try:\n",
        "        # Get video id\n",
        "        video_id = youtube.video_id\n",
        "\n",
        "        # save transcript\n",
        "        for lang in  target_languages:\n",
        "          # Get transcript of video\n",
        "          srt = YouTubeTranscriptApi.get_transcript(video_id, languages=[lang])\n",
        "\n",
        "          # Convert to SRT format\n",
        "          formatter = SRTFormatter()\n",
        "          en_caption_data = formatter.format_transcript(srt)\n",
        "\n",
        "          # Save the subtitle in the file\n",
        "          print(f'Downloading {lang} subtitles for: ', filename)\n",
        "          with open(f\"{filename}.{lang}.srt\", \"w\", encoding=\"utf-8\") as f:\n",
        "              f.write(en_caption_data)\n",
        "\n",
        "        # save translated transcript\n",
        "        transcript_list = YouTubeTranscriptApi.list_transcripts(video_id)\n",
        "        transcript = transcript_list.find_transcript(target_languages)\n",
        "\n",
        "        for tr_lang in translated_lang:\n",
        "          translated_transcript = transcript.translate(tr_lang)\n",
        "\n",
        "          # Convert to SRT format\n",
        "          formatter = SRTFormatter()\n",
        "          en_caption_data = formatter.format_transcript(translated_transcript.fetch())\n",
        "\n",
        "          # Save the subtitle in the file\n",
        "          print(f'Downloading {translated_transcript} translated subtitles for: ', filename)\n",
        "          with open(f\"{filename}.{tr_lang}.srt\", \"w\", encoding=\"utf-8\") as f:\n",
        "              f.write(en_caption_data)\n",
        "\n",
        "        # Access the description attribute of the YouTube object\n",
        "        description = youtube.description\n",
        "        with open(f\"{filename}.description\", \"w\", encoding=\"utf-8\") as f:\n",
        "            f.write(description)\n",
        "\n",
        "    except TranscriptsDisabled:\n",
        "        print('Subtitles are disabled for:', filename)\n",
        "    except Exception as e:\n",
        "        print('Error downloading subtitles for:', filename, 'Error:', str(e))"
      ]
    },
    {
      "cell_type": "code",
      "execution_count": 27,
      "metadata": {
        "id": "M55fJfvyt5t1"
      },
      "outputs": [],
      "source": [
        "# Function to download a video from YouTube using pytube\n",
        "def download_video_by_pytube(url, base_path=\"//content//drive//MyDrive//YouTube//Download_video//\",\n",
        "                             playlist_start=1, skip_download=False, max_resolution=1280,\n",
        "                             target_languages=[\"en\"], translated_lang=[]):\n",
        "\n",
        "    # Check if the URL is for a playlist\n",
        "    if 'playlist?list=' in url.lower():\n",
        "        playlist = Playlist(url)\n",
        "        folder_name = f\"{playlist.title}_{playlist.owner}\"\n",
        "        playlist = list(playlist.video_urls)\n",
        "    else:\n",
        "        playlist = []\n",
        "        playlist.append(url)\n",
        "        youtube = YouTube(url)\n",
        "        folder_name = f\"{youtube.title}_{youtube.author}\"\n",
        "\n",
        "    # Create a clean folder name and path\n",
        "    folder_name = re.sub(r'[^\\w\\s-]', '', folder_name).strip()\n",
        "    folder_name = re.sub(r'[-\\s]+', '-', folder_name)\n",
        "    path = os.path.join(base_path, folder_name)\n",
        "\n",
        "    # Create the folder for the downloaded videos\n",
        "    create_folder(url, path)\n",
        "\n",
        "    for i, video_url in enumerate(playlist[playlist_start-1:]):\n",
        "        youtube = YouTube(video_url)\n",
        "\n",
        "        # Get the name of the video\n",
        "        title = youtube.title.translate(table_punctuation).translate(table_digit)\n",
        "        j = str(i+playlist_start).zfill(3)\n",
        "        filename = f\"{j}_{title}\"\n",
        "        print(j, ' ', title)\n",
        "\n",
        "\n",
        "        # print(youtube.streaming_data)\n",
        "\n",
        "        try:\n",
        "\n",
        "          video_dict = {}\n",
        "          for streaming_data in youtube.streaming_data['formats']:\n",
        "            if 'video/mp4;' in streaming_data['mimeType']:\n",
        "              video_dict[streaming_data['url']] = int(streaming_data['qualityLabel'].split('p')[0])\n",
        "              print(streaming_data['quality'], streaming_data['qualityLabel'])\n",
        "\n",
        "          video_dict = filtered_dict = dict(filter(lambda x: x[1] <= max_resolution, video_dict.items()))\n",
        "          videos = sorted(video_dict.items(), key=lambda x: x[1], reverse=True)\n",
        "          print(videos[0][1])\n",
        "\n",
        "\n",
        "            # Get the streams that have a resolution\n",
        "          streams = [stream for stream in youtube.streams.filter(progressive=True, file_extension='mp4') if stream.resolution]\n",
        "\n",
        "          # Sort the streams by resolution in descending order\n",
        "          streams.sort(key=lambda stream: int(stream.resolution.replace('p', '')), reverse=True)\n",
        "\n",
        "          # Find the first stream that has a resolution less than or equal to max_resolution\n",
        "          stream = next((stream for stream in streams if int(stream.resolution.replace('p', '')) <= max_resolution), None)\n",
        "\n",
        "          # Download the video and subtitle and specify the filename\n",
        "          if stream:\n",
        "              if not skip_download:\n",
        "                  stream.download(filename=f\"{filename}.mp4\")\n",
        "                  print(\"Downloaded resolution is:\", stream.resolution)\n",
        "              download_srt(youtube, filename, target_languages , translated_lang )\n",
        "\n",
        "        except Exception as e:\n",
        "          print(e)"
      ]
    },
    {
      "cell_type": "code",
      "execution_count": 30,
      "metadata": {
        "id": "kbMHEMOZSZ_Z"
      },
      "outputs": [],
      "source": [
        "# The URLS list holds the YouTube video or playlist URLs that you want to download.\n",
        "# Each URL in the list can be either a string (representing a single video URL) or a dictionary (representing a playlist).\n",
        "# If it's a dictionary, the dictionary key is the URL of the playlist, and the dictionary value is the index of the video in the playlist where downloading should start.\n",
        "# If the playlist URL is specified as a string, downloading will start from the first video in the playlist.\n",
        "# This script allows you to download videos from a YouTube playlist to your Google Drive and then to your PC, with the ability to resume the download from the last video if needed.\n",
        "\n",
        "# Example of the URLS list:\n",
        "# URLS = [\n",
        "#     {\"https://www.youtube.com/playlist?list=1234\": 3},  # Download from the 3rd video of the playlist\n",
        "#     {\"https://www.youtube.com/playlist?list=1234\": 1},  # Download from the first video of the playlist (all videos)\n",
        "#     \"https://www.youtube.com/playlist?list=1234\",      # Download from the first video of the playlist (all videos)\n",
        "#     \"https://www.youtube.com/watch?v=1234\"              # Download a single video\n",
        "# ]\n",
        "\n",
        "URLS = [\n",
        "      ]"
      ]
    },
    {
      "cell_type": "code",
      "execution_count": 31,
      "metadata": {
        "id": "Y7iL0xjRW3NO",
        "colab": {
          "base_uri": "https://localhost:8080/"
        },
        "outputId": "97354157-4d53-4a12-a766-e5c30a5cb9da"
      },
      "outputs": [
        {
          "output_type": "stream",
          "name": "stdout",
          "text": [
            "https://www.youtube.com/watch?v=2lFpiFO0suM already exists\n",
            "https://www.youtube.com/watch?v=2lFpiFO0suM\n",
            "-------------------------------------------------- \n",
            "\n",
            "/content/drive/MyDrive/YouTube/Download_video/Paper-Review-Graph-Attention-Networks_고려대학교-산업경영공학부-DSBA-연구실\n",
            "Folder created successfully.\n",
            "001   -Paper Review- Graph Attention Networks\n",
            "medium 360p\n",
            "hd720 720p\n",
            "720\n",
            "Downloaded resolution is: 720p\n",
            "Downloading ko subtitles for:  001_-Paper Review- Graph Attention Networks\n",
            "Downloading fa (\"Persian\") translated subtitles for:  001_-Paper Review- Graph Attention Networks\n"
          ]
        }
      ],
      "source": [
        "base_path = \"//content//drive//MyDrive//YouTube//Download_video//\"\n",
        "\n",
        "for URL in URLS:\n",
        "    if isinstance(URL, dict) and len(URL) == 1:\n",
        "        url = list(URL.keys())[0]\n",
        "        playlist_start = list(URL.values())[0]\n",
        "    elif isinstance(URL, str):\n",
        "        url = URL\n",
        "        playlist_start = 1\n",
        "    else:\n",
        "        print('There are some errors in URLS')\n",
        "        break\n",
        "\n",
        "    if  not url_list_add(url):\n",
        "        print(url)\n",
        "        print('-' * 50, '\\n')\n",
        "\n",
        "        download_video_by_pytube(url, base_path,\n",
        "                                 playlist_start=playlist_start,\n",
        "                                 skip_download=False,\n",
        "                                 max_resolution=1080,\n",
        "                                 target_languages=[\"en\"],\n",
        "                                 translated_lang=[])"
      ]
    },
    {
      "cell_type": "markdown",
      "metadata": {
        "id": "jiC4CXBQF12N"
      },
      "source": [
        "# Convert subtitle to text"
      ]
    },
    {
      "cell_type": "markdown",
      "metadata": {
        "id": "lvxmEOPgF2_s"
      },
      "source": [
        "## convert vtt to srt format"
      ]
    },
    {
      "cell_type": "code",
      "execution_count": 32,
      "metadata": {
        "id": "b0aKIiMnQKtA"
      },
      "outputs": [],
      "source": [
        "def vtt_to_srt(filepath):\n",
        "    for root, dirs, files in os.walk(filepath):\n",
        "        recursive = False\n",
        "        convert_file = ConvertDirectories(root, recursive, \"utf-8\")\n",
        "        convert_file.convert()"
      ]
    },
    {
      "cell_type": "markdown",
      "metadata": {
        "id": "uNxcmv_iF8Vo"
      },
      "source": [
        "## Convert srt to text function"
      ]
    },
    {
      "cell_type": "code",
      "execution_count": 33,
      "metadata": {
        "id": "Na58CSadBA01"
      },
      "outputs": [],
      "source": [
        "def str_to_subtitle_to_txt(root_path, appendText='*******'):\n",
        "\n",
        "    # Convert a single .srt file to .txt\n",
        "    def process_file(pathname):\n",
        "        try:\n",
        "            subs = pysrt.open(pathname)\n",
        "            texts = ''\n",
        "            for sub in subs:\n",
        "                texts += sub.text.replace('\\n', ' ') + appendText\n",
        "\n",
        "            # Construct the text file path\n",
        "            basename_without_ext = os.path.splitext(os.path.basename(pathname))[0]\n",
        "            dirname = os.path.dirname(pathname)\n",
        "            text_filepath = os.path.join(dirname, basename_without_ext + '.txt')\n",
        "\n",
        "            # Write to the text file and clean up the text\n",
        "            with open(text_filepath, 'w', encoding='utf-8') as text_file:\n",
        "                texts = texts.replace('.' + appendText, '.\\n\\n')\n",
        "                texts = texts.replace('?' + appendText, '?\\n\\n')\n",
        "                texts = texts.replace(appendText, ' ')\n",
        "                text_file.write(texts)\n",
        "\n",
        "        except Exception as e:\n",
        "            print(f\"Failed to process file: {pathname}\")\n",
        "            print(f\"Error: {e}\")\n",
        "\n",
        "    vtt_to_srt(base_path)\n",
        "\n",
        "    # Walk through root_path and process all .srt files\n",
        "    for dirpath, dirnames, files in os.walk(root_path):\n",
        "        for f in files:\n",
        "            if f.lower().endswith(\".srt\"):\n",
        "                process_file(os.path.join(dirpath, f))"
      ]
    },
    {
      "cell_type": "markdown",
      "metadata": {
        "id": "Q5L39vMRGDkV"
      },
      "source": [
        "## Convert srt to text"
      ]
    },
    {
      "cell_type": "code",
      "execution_count": 34,
      "metadata": {
        "id": "TeUgD0AmGFxk"
      },
      "outputs": [],
      "source": [
        "base_path = \"//content//drive//MyDrive//YouTube//Download_video//\"\n",
        "\n",
        "str_to_subtitle_to_txt(base_path)"
      ]
    }
  ],
  "metadata": {
    "colab": {
      "provenance": [],
      "include_colab_link": true
    },
    "kernelspec": {
      "display_name": "Python 3",
      "name": "python3"
    }
  },
  "nbformat": 4,
  "nbformat_minor": 0
}