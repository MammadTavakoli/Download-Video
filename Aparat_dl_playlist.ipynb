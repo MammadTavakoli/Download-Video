{
  "nbformat": 4,
  "nbformat_minor": 0,
  "metadata": {
    "colab": {
      "provenance": []
    },
    "kernelspec": {
      "name": "python3",
      "display_name": "Python 3"
    },
    "language_info": {
      "name": "python"
    }
  },
  "cells": [
    {
      "cell_type": "code",
      "execution_count": 1,
      "metadata": {
        "id": "3WukeipUwnKN"
      },
      "outputs": [],
      "source": [
        "import os\n",
        "import requests\n",
        "import pandas as pd\n",
        "from tqdm.notebook import tqdm"
      ]
    },
    {
      "cell_type": "code",
      "source": [
        "API_BASE_URL = \"https://www.aparat.com/api/fa/v1\"\n",
        "MAIN_PATH = \"E:/Video_DL\""
      ],
      "metadata": {
        "id": "whUpbtgUwz7p"
      },
      "execution_count": 2,
      "outputs": []
    },
    {
      "cell_type": "code",
      "source": [
        "def get_playlist_info(playlist_id):\n",
        "    playlist_url = f\"{API_BASE_URL}/video/playlist/one/playlist_id/{playlist_id}\"\n",
        "    response = requests.get(playlist_url)\n",
        "    if response.status_code !=  200:\n",
        "        raise Exception(f\"Failed to fetch playlist data: {response.status_code}\")\n",
        "    return response.json()\n",
        "\n",
        "def get_video_info(video_hash):\n",
        "    video_url = f\"{API_BASE_URL}/video/video/show/videohash/{video_hash}\"\n",
        "    response = requests.get(video_url)\n",
        "    if response.status_code !=  200:\n",
        "        raise Exception(f\"Failed to fetch video info for {video_hash}\")\n",
        "    return response.json()\n",
        "\n",
        "def download_video(video_url, output_path):\n",
        "    with requests.get(video_url, stream=True) as response:\n",
        "        if response.status_code !=  200:\n",
        "            raise Exception(f\"Failed to download the video from {video_url}\")\n",
        "        with open(output_path, 'wb') as file:\n",
        "            for chunk in response.iter_content(chunk_size=1024):\n",
        "                file.write(chunk)\n",
        "    print(f'Downloaded to {output_path}')\n",
        "\n",
        "def create_playlist_directory(playlist_title, main_path=MAIN_PATH):\n",
        "    playlist_path = os.path.join(main_path, playlist_title)\n",
        "    os.makedirs(playlist_path, exist_ok=True)\n",
        "    return playlist_path\n",
        "\n",
        "def save_video_links(playlist_path, video_urls):\n",
        "    with open(os.path.join(playlist_path, \"_URLS.txt\"), \"a\") as f:\n",
        "        for url in video_urls:\n",
        "            f.write(url + \"\\n\")\n",
        "\n",
        "def download_playlist(playlist_id, playlist_start=1, only_link=False, main_path=MAIN_PATH):\n",
        "    playlist_data = get_playlist_info(playlist_id)\n",
        "    play_list_title = playlist_data['data']['attributes']['title']\n",
        "    playlist_path = create_playlist_directory(play_list_title, main_path)\n",
        "\n",
        "    videos = playlist_data['included']\n",
        "    videos_df = pd.json_normalize(videos)\n",
        "    videos_df = videos_df[videos_df['type'] == 'Video']\n",
        "\n",
        "    video_urls = []\n",
        "    for index, row in tqdm(videos_df.iterrows(), total=len(videos_df), desc=\"Processing videos\"):\n",
        "        if index + 1 >= playlist_start:\n",
        "            video_id = row['attributes.uid']\n",
        "            video_info = get_video_info(video_id)\n",
        "            video_download_link_all = video_info['data']['attributes']['file_link_all']\n",
        "            video_df = pd.DataFrame(video_download_link_all)\n",
        "\n",
        "            try:\n",
        "                max_quality = video_df['profile'].idxmax()\n",
        "                download_url = video_df.loc[max_quality, 'urls'][0]\n",
        "                video_urls.append(download_url)\n",
        "\n",
        "                if not only_link:\n",
        "                    quality = video_df.loc[max_quality, 'profile']\n",
        "                    output_path = os.path.join(playlist_path, f\"{index+1:02d}_{row['attributes.title']}-{quality}.mp4\")\n",
        "                    download_video(download_url, output_path)\n",
        "\n",
        "            except (KeyError, IndexError) as e:\n",
        "                print(f\"Error processing video {video_id}: {str(e)}\")\n",
        "\n",
        "    save_video_links(playlist_path, video_urls)"
      ],
      "metadata": {
        "id": "S7ZdqMTqw26X"
      },
      "execution_count": 3,
      "outputs": []
    },
    {
      "cell_type": "code",
      "source": [
        "playlist_id =  000000\n",
        "download_playlist(playlist_id)"
      ],
      "metadata": {
        "id": "WML5YO25w9zu"
      },
      "execution_count": null,
      "outputs": []
    }
  ]
}